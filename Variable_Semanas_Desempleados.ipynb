{
  "nbformat": 4,
  "nbformat_minor": 0,
  "metadata": {
    "colab": {
      "provenance": []
    },
    "kernelspec": {
      "name": "python3",
      "display_name": "Python 3"
    },
    "language_info": {
      "name": "python"
    }
  },
  "cells": [
    {
      "cell_type": "code",
      "execution_count": null,
      "metadata": {
        "id": "Mk2Yf_cMdnkh"
      },
      "outputs": [],
      "source": [
        "# datos a ocupar de la variable SEMANAS DESEMPLEADO\n",
        "\n",
        "lista = [12,24,3,32,32,12,2,42,20,10,13,4,3,8,3,2,9,8,10,2,8,15,7,48,6,22,8,50,6,12,1,12,7,2,4,7,3,3,4,5,48,9,52,10,10,90,50,6,2,14,]\n",
        "\n",
        "print(len(lista))\n",
        "\n",
        "lista.sort()\n",
        "print(lista)"
      ]
    },
    {
      "cell_type": "code",
      "source": [
        "# variable para calcular la frecuencia absolta, presiona el boton izquierdo para\n",
        "# ejecutar el codigo :)\n",
        "\n",
        "def contar_elemento(primer_valor, ultimo_valor):\n",
        "    contador = 0\n",
        "    for i in lista:\n",
        "        if i >= primer_valor and i <= ultimo_valor:\n",
        "            contador += 1\n",
        "    print(f\"El numero valores que se encuentran entre {primer_valor} y {ultimo_valor} es: {contador}\")\n",
        "\n",
        "\n",
        "primer_valor = int(input(\"\\nEscriba el primer valor del rango de edad: \"))\n",
        "ultimo_valor = int(input(\"Escriba el último valor del rango de edad: \"))\n",
        "contar_elemento(primer_valor, ultimo_valor)\n"
      ],
      "metadata": {
        "id": "yHDvzyQid-7v"
      },
      "execution_count": null,
      "outputs": []
    }
  ]
}