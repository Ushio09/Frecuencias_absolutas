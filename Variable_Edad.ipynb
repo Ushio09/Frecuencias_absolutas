{
  "nbformat": 4,
  "nbformat_minor": 0,
  "metadata": {
    "colab": {
      "provenance": [],
      "authorship_tag": "ABX9TyOLIWi4I47GrRpLnjzM9X6B",
      "include_colab_link": true
    },
    "kernelspec": {
      "name": "python3",
      "display_name": "Python 3"
    },
    "language_info": {
      "name": "python"
    }
  },
  "cells": [
    {
      "cell_type": "markdown",
      "metadata": {
        "id": "view-in-github",
        "colab_type": "text"
      },
      "source": [
        "<a href=\"https://colab.research.google.com/github/Ushio09/Variable_Edad_frecuencia_absoluta/blob/main/Variable_Edad.ipynb\" target=\"_parent\"><img src=\"https://colab.research.google.com/assets/colab-badge.svg\" alt=\"Open In Colab\"/></a>"
      ]
    },
    {
      "cell_type": "markdown",
      "source": [
        "**Presiona el boton de la izquierda o da clic en el recuadro de los datos y utiliza 'Ctrl + Enter' para ejecutar el código, de esta forma podrá arrojar resultados.**"
      ],
      "metadata": {
        "id": "qWM5H79VOH_1"
      }
    },
    {
      "cell_type": "code",
      "execution_count": null,
      "metadata": {
        "id": "9P9zY9GuXm0z"
      },
      "outputs": [],
      "source": [
        "# datos a ocupar de la variable EDAD\n",
        "\n",
        "lista = [24,43,54,67,41,42,32,63,49,32,44,26,26,30,31,42,35,39,21,33,48,25,47,\n",
        "         42,50,49,24,43,55,42,24,55,58,18,18,26,\n",
        "         23,39,31,51,61,53,64,44,51,63,68,44,50,53,]\n",
        "\n",
        "print(\"Elementos en la lista: \", len(lista))\n",
        "\n",
        "lista.sort()\n",
        "print(\"\\nLista ordenada de menor a mayor: \")\n",
        "print(lista)\n"
      ]
    },
    {
      "cell_type": "code",
      "source": [
        "# Presione el botón de la izquierda \"ejecutar\" para calcular la frecuencia absoluta :)\n",
        "# si necesita cambiar los valores, vuelva a ejecutar el código. \n",
        "\n",
        "def contar_elemento(primer_valor, ultimo_valor):\n",
        "    contador = 0\n",
        "    for i in lista:\n",
        "        if i >= primer_valor and i <= ultimo_valor:\n",
        "            contador += 1\n",
        "    print(f\"\\nEl numero valores que se encuentran desde {primer_valor} hasta {ultimo_valor} es: {contador}\")\n",
        "\n",
        "\n",
        "primer_valor = int(input(\"Escriba el primer valor del rango de edad: \"))\n",
        "ultimo_valor = int(input(\"Escriba el último valor del rango de edad: \"))\n",
        "contar_elemento(primer_valor, ultimo_valor)\n"
      ],
      "metadata": {
        "id": "tc8AXmh2IsYu"
      },
      "execution_count": null,
      "outputs": []
    }
  ]
}